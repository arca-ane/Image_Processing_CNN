{
 "cells": [
  {
   "cell_type": "code",
   "execution_count": 1,
   "id": "b1e2a3dc",
   "metadata": {},
   "outputs": [],
   "source": [
    "import numpy as np\n",
    "import tensorflow as tf\n",
    "import pandas as pd\n",
    "import cv2\n",
    "from tensorflow import keras\n",
    "from tensorflow.keras.layers import Dense\n",
    "from tensorflow.keras.models import Sequential\n",
    "from  matplotlib import pyplot as plt\n",
    "import matplotlib.image as mpimg\n",
    "%matplotlib inline"
   ]
  },
  {
   "cell_type": "code",
   "execution_count": 2,
   "id": "21e2456e",
   "metadata": {},
   "outputs": [],
   "source": [
    "lmodel=tf.keras.models.load_model('mymodel2.h5')"
   ]
  },
  {
   "cell_type": "code",
   "execution_count": 4,
   "id": "851af8ed",
   "metadata": {},
   "outputs": [],
   "source": [
    "img_path=r'.\\test.jpg'\n",
    "img= cv2.imread( img_path, cv2.COLOR_BGR2GRAY)\n",
    "# img = cv2.cvtColor(img, cv2.COLOR_BGR2GRAY)\n",
    "img=np.array(img)\n",
    "img = img.astype('float32')\n",
    "img /= 255 "
   ]
  },
  {
   "cell_type": "code",
   "execution_count": 5,
   "id": "735e6210",
   "metadata": {},
   "outputs": [
    {
     "name": "stdout",
     "output_type": "stream",
     "text": [
      "(45, 45)\n"
     ]
    }
   ],
   "source": [
    "print(img.shape)"
   ]
  },
  {
   "cell_type": "code",
   "execution_count": 6,
   "id": "9f2caa6f",
   "metadata": {},
   "outputs": [],
   "source": [
    "arr=['Add','Sub','0','1','2','3','4','5','6','7','8','9','Equal','Prod']"
   ]
  },
  {
   "cell_type": "code",
   "execution_count": 8,
   "id": "cd3e4ed2",
   "metadata": {},
   "outputs": [
    {
     "name": "stdout",
     "output_type": "stream",
     "text": [
      "1/1 [==============================] - 0s 67ms/step\n",
      "Prediction: 5\n"
     ]
    }
   ],
   "source": [
    "prediction = lmodel.predict(img.reshape(1,2025))  # prediction\n",
    "\n",
    "# print(f\" predicting a Two: \\n{prediction}\")\n",
    "print(f\"Prediction: {arr[np.argmax(prediction)]}\")"
   ]
  },
  {
   "cell_type": "code",
   "execution_count": 11,
   "id": "5b83c387",
   "metadata": {},
   "outputs": [
    {
     "data": {
      "text/plain": [
       "<matplotlib.image.AxesImage at 0x266dca2f850>"
      ]
     },
     "execution_count": 11,
     "metadata": {},
     "output_type": "execute_result"
    },
    {
     "data": {
      "image/png": "[encoded data removed]",
      "text/plain": [
       "<Figure size 360x360 with 1 Axes>"
      ]
     },
     "metadata": {
      "needs_background": "light"
     },
     "output_type": "display_data"
    }
   ],
   "source": [
    "plt.figure(figsize=(5,5))\n",
    "img=mpimg.imread(img_path)\n",
    "plt.imshow(img)"
   ]
  }
 ],
 "metadata": {
  "kernelspec": {
   "display_name": "Python 3.10.2 64-bit",
   "language": "python",
   "name": "python3"
  },
  "language_info": {
   "codemirror_mode": {
    "name": "ipython",
    "version": 3
   },
   "file_extension": ".py",
   "mimetype": "text/x-python",
   "name": "python",
   "nbconvert_exporter": "python",
   "pygments_lexer": "ipython3",
   "version": "3.10.2"
  },
  "vscode": {
   "interpreter": {
    "hash": "ae1ddcff7fb3589e56c1735bd04bc544f28a9960cac663cd0016f5d7384b912c"
   }
  }
 },
 "nbformat": 4,
 "nbformat_minor": 5
}
